{
 "cells": [
  {
   "cell_type": "code",
   "execution_count": 19,
   "id": "7e41d331",
   "metadata": {},
   "outputs": [],
   "source": [
    "from openpyxl import Workbook\n",
    "from openpyxl import load_workbook\n",
    "from openpyxl.utils import FORMULAE\n",
    "from openpyxl.utils.dataframe import dataframe_to_rows\n",
    "import pandas as pd"
   ]
  },
  {
   "cell_type": "code",
   "execution_count": 20,
   "id": "b2af54e3",
   "metadata": {
    "scrolled": false
   },
   "outputs": [],
   "source": [
    "workbook = load_workbook(filename = \"regextractt.xlsx\")\n",
    "workbook.sheetnames\n",
    "sheet= workbook.active\n",
    "col =  sheet[\"B5:B26\"]\n",
    "df = pd.DataFrame()\n"
   ]
  },
  {
   "cell_type": "code",
   "execution_count": 21,
   "id": "ee9e983f",
   "metadata": {},
   "outputs": [],
   "source": [
    "# Create a value function\n",
    "# 1) Display as df\n",
    "\n",
    "def rows(cols,rows, min_rows) :\n",
    "    for r in sheet.iter_rows(max_col = cols,max_row = rows,min_row = min_rows, values_only = True) :\n",
    "      print(r)\n"
   ]
  },
  {
   "cell_type": "code",
   "execution_count": 25,
   "id": "836a6c8a",
   "metadata": {},
   "outputs": [
    {
     "name": "stdout",
     "output_type": "stream",
     "text": [
      "('Pattern 1', 2, None, None, None, None, None, None, None, None)\n",
      "('\"/\\\\d{4}\"', 2, None, None, None, None, None, None, None, None)\n",
      "(None, 2, None, None, None, None, None, None, None, None)\n",
      "(None, 2, None, None, None, None, None, None, None, None)\n",
      "(1, 2, None, None, None, None, None, None, None, None)\n",
      "(2, 2, None, None, None, None, None, None, None, None)\n",
      "(3, 2, None, None, None, None, None, None, None, None)\n",
      "(4, 2, None, None, None, None, None, None, None, None)\n",
      "(5, 2, None, None, None, None, None, None, None, None)\n",
      "(6, 2, None, None, None, None, None, None, None, None)\n"
     ]
    }
   ],
   "source": [
    "rows(10,10,0)"
   ]
  },
  {
   "cell_type": "code",
   "execution_count": 26,
   "id": "6bdac131",
   "metadata": {},
   "outputs": [
    {
     "name": "stdout",
     "output_type": "stream",
     "text": [
      "('Pattern 1', 2, '=(A0 + B0)')\n",
      "('\"/\\\\d{4}\"', 2, '=(A1 + B1)')\n",
      "(None, 2, '=(A2 + B2)')\n",
      "(None, 2, '=(A3 + B3)')\n",
      "(1, 2, '=(A4 + B4)')\n",
      "(2, 2, '=(A5 + B5)')\n",
      "(3, 2, '=(A6 + B6)')\n",
      "(4, 2, '=(A7 + B7)')\n",
      "(5, 2, '=(A8 + B8)')\n",
      "(6, 2, '=(A9 + B9)')\n"
     ]
    }
   ],
   "source": [
    "# 2) Do this for specific range (not for the range of whole column)\n",
    "\n",
    "for row, cell in enumerate(list(sheet.columns)[2]):\n",
    "      n = '=(A%d + B%d)' % (row, row)\n",
    "      cell.value = n\n",
    "\n",
    "rows(3,10,0)"
   ]
  },
  {
   "cell_type": "code",
   "execution_count": 27,
   "id": "387bdb61",
   "metadata": {},
   "outputs": [],
   "source": [
    "workbook.save(\"result.xlsx\")"
   ]
  },
  {
   "cell_type": "code",
   "execution_count": null,
   "id": "51de4b0b",
   "metadata": {},
   "outputs": [],
   "source": []
  }
 ],
 "metadata": {
  "kernelspec": {
   "display_name": "Python 3 (ipykernel)",
   "language": "python",
   "name": "python3"
  },
  "language_info": {
   "codemirror_mode": {
    "name": "ipython",
    "version": 3
   },
   "file_extension": ".py",
   "mimetype": "text/x-python",
   "name": "python",
   "nbconvert_exporter": "python",
   "pygments_lexer": "ipython3",
   "version": "3.9.7"
  }
 },
 "nbformat": 4,
 "nbformat_minor": 5
}
