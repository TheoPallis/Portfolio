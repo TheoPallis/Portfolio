{
 "cells": [
  {
   "cell_type": "code",
   "execution_count": 29,
   "id": "7e41d331",
   "metadata": {},
   "outputs": [],
   "source": [
    "from openpyxl import Workbook\n",
    "from openpyxl import load_workbook\n",
    "from openpyxl.utils import FORMULAE\n",
    "from openpyxl.utils.dataframe import dataframe_to_rows\n",
    "import pandas as pd"
   ]
  },
  {
   "cell_type": "code",
   "execution_count": 30,
   "id": "b2af54e3",
   "metadata": {
    "scrolled": false
   },
   "outputs": [],
   "source": [
    "workbook = load_workbook(filename = \"regextractt.xlsx\")\n",
    "workbook.sheetnames\n",
    "sheet= workbook.active\n",
    "col =  sheet[\"B5:B26\"]\n",
    "df = pd.DataFrame()\n"
   ]
  },
  {
   "cell_type": "code",
   "execution_count": 86,
   "id": "6bdac131",
   "metadata": {},
   "outputs": [
    {
     "data": {
      "text/html": [
       "<div>\n",
       "<style scoped>\n",
       "    .dataframe tbody tr th:only-of-type {\n",
       "        vertical-align: middle;\n",
       "    }\n",
       "\n",
       "    .dataframe tbody tr th {\n",
       "        vertical-align: top;\n",
       "    }\n",
       "\n",
       "    .dataframe thead th {\n",
       "        text-align: right;\n",
       "    }\n",
       "</style>\n",
       "<table border=\"1\" class=\"dataframe\">\n",
       "  <thead>\n",
       "    <tr style=\"text-align: right;\">\n",
       "      <th></th>\n",
       "      <th>0</th>\n",
       "      <th>1</th>\n",
       "      <th>2</th>\n",
       "    </tr>\n",
       "  </thead>\n",
       "  <tbody>\n",
       "    <tr>\n",
       "      <th>0</th>\n",
       "      <td>Pattern 1</td>\n",
       "      <td>None</td>\n",
       "      <td>=(A0 + B0)</td>\n",
       "    </tr>\n",
       "    <tr>\n",
       "      <th>1</th>\n",
       "      <td>\"/\\d{4}\"</td>\n",
       "      <td>None</td>\n",
       "      <td>=(A1 + B1)</td>\n",
       "    </tr>\n",
       "    <tr>\n",
       "      <th>2</th>\n",
       "      <td>None</td>\n",
       "      <td>None</td>\n",
       "      <td>=(A2 + B2)</td>\n",
       "    </tr>\n",
       "    <tr>\n",
       "      <th>3</th>\n",
       "      <td>None</td>\n",
       "      <td>None</td>\n",
       "      <td>=(A3 + B3)</td>\n",
       "    </tr>\n",
       "    <tr>\n",
       "      <th>4</th>\n",
       "      <td>1</td>\n",
       "      <td>= A5 + 1</td>\n",
       "      <td>=(A4 + B4)</td>\n",
       "    </tr>\n",
       "    <tr>\n",
       "      <th>5</th>\n",
       "      <td>2</td>\n",
       "      <td>= A6 + 1</td>\n",
       "      <td>=(A5 + B5)</td>\n",
       "    </tr>\n",
       "    <tr>\n",
       "      <th>6</th>\n",
       "      <td>3</td>\n",
       "      <td>= A7 + 1</td>\n",
       "      <td>=(A6 + B6)</td>\n",
       "    </tr>\n",
       "    <tr>\n",
       "      <th>7</th>\n",
       "      <td>4</td>\n",
       "      <td>= A8 + 1</td>\n",
       "      <td>=(A7 + B7)</td>\n",
       "    </tr>\n",
       "    <tr>\n",
       "      <th>8</th>\n",
       "      <td>5</td>\n",
       "      <td>= A9 + 1</td>\n",
       "      <td>=(A8 + B8)</td>\n",
       "    </tr>\n",
       "    <tr>\n",
       "      <th>9</th>\n",
       "      <td>6</td>\n",
       "      <td>= A10 + 1</td>\n",
       "      <td>=(A9 + B9)</td>\n",
       "    </tr>\n",
       "  </tbody>\n",
       "</table>\n",
       "</div>"
      ],
      "text/plain": [
       "           0          1           2\n",
       "0  Pattern 1       None  =(A0 + B0)\n",
       "1   \"/\\d{4}\"       None  =(A1 + B1)\n",
       "2       None       None  =(A2 + B2)\n",
       "3       None       None  =(A3 + B3)\n",
       "4          1   = A5 + 1  =(A4 + B4)\n",
       "5          2   = A6 + 1  =(A5 + B5)\n",
       "6          3   = A7 + 1  =(A6 + B6)\n",
       "7          4   = A8 + 1  =(A7 + B7)\n",
       "8          5   = A9 + 1  =(A8 + B8)\n",
       "9          6  = A10 + 1  =(A9 + B9)"
      ]
     },
     "execution_count": 86,
     "metadata": {},
     "output_type": "execute_result"
    }
   ],
   "source": [
    "# 2) Do this for specific range (not for the range of whole column)\n",
    "\n",
    "for row, cell in enumerate(list(sheet.columns)[2]):\n",
    "      n = '=(A%d + B%d)' % (row, row)\n",
    "      cell.value = n\n",
    "\n",
    "df = pd.DataFrame(sheet.values).iloc[:10,:3]\n",
    "df"
   ]
  },
  {
   "cell_type": "code",
   "execution_count": 27,
   "id": "387bdb61",
   "metadata": {},
   "outputs": [],
   "source": [
    "workbook.save(\"result.xlsx\")"
   ]
  }
 ],
 "metadata": {
  "kernelspec": {
   "display_name": "Python 3 (ipykernel)",
   "language": "python",
   "name": "python3"
  },
  "language_info": {
   "codemirror_mode": {
    "name": "ipython",
    "version": 3
   },
   "file_extension": ".py",
   "mimetype": "text/x-python",
   "name": "python",
   "nbconvert_exporter": "python",
   "pygments_lexer": "ipython3",
   "version": "3.9.7"
  }
 },
 "nbformat": 4,
 "nbformat_minor": 5
}
