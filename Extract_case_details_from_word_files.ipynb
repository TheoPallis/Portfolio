{
 "cells": [
  {
   "cell_type": "code",
   "execution_count": 196,
   "id": "a44a28be",
   "metadata": {},
   "outputs": [],
   "source": [
    "from docx import Document\n",
    "import re\n",
    "import pandas as pd\n",
    "import os\n",
    "import glob\n",
    "os.getcwd()\n",
    "from pprint import pprint"
   ]
  },
  {
   "cell_type": "code",
   "execution_count": 197,
   "id": "f0c6f87c",
   "metadata": {},
   "outputs": [],
   "source": [
    "files = glob.glob(\"*docx\")                               # Get all word files\n",
    "rootdir = os.getcwd()                                    # Get current directory to append to the file open part\n",
    "doc_list = []                                            # List with readable word files\n",
    "listp = []                                               # List with all paragraphs for current file\n",
    "results = {}                                             # The dictionary which stores the results\n",
    "reg_name = \"(?<=ΚΑΤΑ).*?(?<=.Ι.{2}ΕΙΣΑΓΩΓΙΚΑ)\"\n",
    "reg_date = \"[0-3][0-9]\\/[0-1][0-9]\\/[2][0][1-2][0-9]\""
   ]
  },
  {
   "cell_type": "code",
   "execution_count": 248,
   "id": "b80dfd3e",
   "metadata": {},
   "outputs": [],
   "source": [
    "def extract() :\n",
    "    date_list = []\n",
    "    name_list = []\n",
    "    file_list = []\n",
    "    df = pd.DataFrame()\n",
    "\n",
    "    for index, file in enumerate(files):\n",
    "        doc = Document(os.path.join(rootdir,file))\n",
    "        doc_list.append(doc)\n",
    "        paragraphs = list(doc.paragraphs)\n",
    "        for p in paragraphs:\n",
    "            listp.append(p.text)\n",
    "            s = ''.join(str(x) for x in listp)\n",
    "            date = re.findall(reg_date, s)\n",
    "            name = re.findall(reg_name, s)\n",
    "        if date != [] and name != []:\n",
    "            last_date = date[-1]\n",
    "            name_list.append(name)\n",
    "            file_list.append(file)\n",
    "            date_list.append(last_date)\n",
    "    df[1] = file_list\n",
    "    df[2] = name_list\n",
    "    df[3] = date_list\n",
    "df.to_excel('res.xlsx')"
   ]
  },
  {
   "cell_type": "code",
   "execution_count": 249,
   "id": "53a43e8c",
   "metadata": {},
   "outputs": [],
   "source": [
    "extract()"
   ]
  }
 ],
 "metadata": {
  "kernelspec": {
   "display_name": "Python 3 (ipykernel)",
   "language": "python",
   "name": "python3"
  },
  "language_info": {
   "codemirror_mode": {
    "name": "ipython",
    "version": 3
   },
   "file_extension": ".py",
   "mimetype": "text/x-python",
   "name": "python",
   "nbconvert_exporter": "python",
   "pygments_lexer": "ipython3",
   "version": "3.9.7"
  }
 },
 "nbformat": 4,
 "nbformat_minor": 5
}
